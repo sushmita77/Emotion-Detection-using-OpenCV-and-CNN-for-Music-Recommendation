{
 "cells": [
  {
   "cell_type": "markdown",
   "metadata": {},
   "source": [
    "# Create Dataset for Music Classification using Spotipy "
   ]
  },
  {
   "cell_type": "code",
   "execution_count": 1,
   "metadata": {},
   "outputs": [],
   "source": [
    "import spotipy\n",
    "import time\n",
    "from IPython.core.display import clear_output\n",
    "from spotipy import SpotifyClientCredentials, util"
   ]
  },
  {
   "cell_type": "code",
   "execution_count": 2,
   "metadata": {},
   "outputs": [],
   "source": [
    "client_id='your client id'\n",
    "client_secret='your client secret key'\n",
    "redirect_uri='http://localhost:7000/callback'\n",
    "username = 'your username'\n",
    "scope = 'playlist-modify-public'"
   ]
  },
  {
   "cell_type": "code",
   "execution_count": 3,
   "metadata": {},
   "outputs": [],
   "source": [
    "manager = SpotifyClientCredentials(client_id,client_secret)\n",
    "sp = spotipy.Spotify(client_credentials_manager=manager)\n",
    "\n",
    "#Credentials to access to  the Spotify User's Playlist, Favorite Songs, etc. \n",
    "token = util.prompt_for_user_token(username,scope,client_id,client_secret,redirect_uri) \n",
    "spt = spotipy.Spotify(auth=token)"
   ]
  },
  {
   "cell_type": "code",
   "execution_count": 24,
   "metadata": {},
   "outputs": [],
   "source": [
    "def download_playlist(id_playlist,n_songs):\n",
    "    songs_id = []\n",
    "    tracks = []\n",
    "\n",
    "    for i in range(0,n_songs,100):\n",
    "        playlist = spt.playlist_tracks(id_playlist,limit=100,offset=i)\n",
    "        \n",
    "        for songs in playlist['items']:\n",
    "            songs_id.append(songs['track']['id'])\n",
    "    \n",
    "    counter = 1\n",
    "    for ids in songs_id:\n",
    "        \n",
    "        time.sleep(.6)\n",
    "        track,columns = get_songs_features(ids)\n",
    "        tracks.append(track)\n",
    "\n",
    "        print(f\"Song {counter} Added:\")\n",
    "        print(f\"{track[0]} By {track[2]} from the album {track[1]}\")\n",
    "        clear_output(wait = True)\n",
    "        counter+=1\n",
    "    \n",
    "    clear_output(wait = True)\n",
    "    print(\"Music Downloaded!\")\n",
    "    return tracks,columns"
   ]
  },
  {
   "cell_type": "code",
   "execution_count": 16,
   "metadata": {},
   "outputs": [],
   "source": [
    "def get_songs_features(ids):\n",
    "\n",
    "    meta = sp.track(ids)\n",
    "    features = sp.audio_features(ids)\n",
    "\n",
    "    # meta\n",
    "    name = meta['name']\n",
    "    album = meta['album']['name']\n",
    "    artist = meta['album']['artists'][0]['name']\n",
    "    release_date = meta['album']['release_date']\n",
    "    length = meta['duration_ms']\n",
    "    popularity = meta['popularity']\n",
    "    ids =  meta['id']\n",
    "\n",
    "    # features\n",
    "    acousticness = features[0]['acousticness']\n",
    "    danceability = features[0]['danceability']\n",
    "    energy = features[0]['energy']\n",
    "    instrumentalness = features[0]['instrumentalness']\n",
    "    liveness = features[0]['liveness']\n",
    "    valence = features[0]['valence']\n",
    "    loudness = features[0]['loudness']\n",
    "    speechiness = features[0]['speechiness']\n",
    "    tempo = features[0]['tempo']\n",
    "    key = features[0]['key']\n",
    "    time_signature = features[0]['time_signature']\n",
    "\n",
    "    track = [name, album, artist, ids, release_date, popularity, length, danceability, acousticness,\n",
    "            energy, instrumentalness, liveness, valence, loudness, speechiness, tempo, key, time_signature]\n",
    "    columns = ['name','album','artist','id','release_date','popularity','length','danceability','acousticness','energy','instrumentalness',\n",
    "                'liveness','valence','loudness','speechiness','tempo','key','time_signature']\n",
    "\n",
    "    return track,columns"
   ]
  },
  {
   "cell_type": "code",
   "execution_count": 6,
   "metadata": {},
   "outputs": [
    {
     "name": "stdout",
     "output_type": "stream",
     "text": [
      "Music Downloaded!\n"
     ]
    }
   ],
   "source": [
    "#happy playlist\n",
    "tracks,columns = download_playlist(\"6tUoLGh3ueIMVoYbBVZpKQ\",100)"
   ]
  },
  {
   "cell_type": "code",
   "execution_count": 7,
   "metadata": {},
   "outputs": [],
   "source": [
    "import pandas as pd\n",
    "df_happy = pd.DataFrame(tracks,columns=columns)\n",
    "df_happy['emotion']='happy'"
   ]
  },
  {
   "cell_type": "code",
   "execution_count": 8,
   "metadata": {},
   "outputs": [
    {
     "name": "stdout",
     "output_type": "stream",
     "text": [
      "Music Downloaded!\n"
     ]
    }
   ],
   "source": [
    "#sad playlist\n",
    "tracks,columns = download_playlist(\"56adfjzaO4gkQwEIZACbX5\",100)"
   ]
  },
  {
   "cell_type": "code",
   "execution_count": 9,
   "metadata": {},
   "outputs": [],
   "source": [
    "df_sad=pd.DataFrame(tracks,columns=columns)\n",
    "df_sad['emotion']='sad'"
   ]
  },
  {
   "cell_type": "code",
   "execution_count": 10,
   "metadata": {},
   "outputs": [
    {
     "name": "stdout",
     "output_type": "stream",
     "text": [
      "Music Downloaded!\n"
     ]
    }
   ],
   "source": [
    "#neutral playlist\n",
    "tracks,columns = download_playlist(\"4R8q49NearaGRAmBCB04ky\",100)"
   ]
  },
  {
   "cell_type": "code",
   "execution_count": 11,
   "metadata": {},
   "outputs": [],
   "source": [
    "df_neutral =pd.DataFrame(tracks,columns=columns)\n",
    "df_neutral['emotion']='neutral'"
   ]
  },
  {
   "cell_type": "code",
   "execution_count": 12,
   "metadata": {},
   "outputs": [
    {
     "name": "stdout",
     "output_type": "stream",
     "text": [
      "Music Downloaded!\n"
     ]
    }
   ],
   "source": [
    "#calm playlist\n",
    "tracks,columns = download_playlist(\"224DyzqwL7PeeKkFxIvVD7\",100)"
   ]
  },
  {
   "cell_type": "code",
   "execution_count": 13,
   "metadata": {},
   "outputs": [],
   "source": [
    "df_calm =pd.DataFrame(tracks,columns=columns)\n",
    "df_calm['emotion']='calm'"
   ]
  },
  {
   "cell_type": "code",
   "execution_count": 14,
   "metadata": {},
   "outputs": [],
   "source": [
    "df_final= pd.concat([df_happy,df_sad,df_neutral,df_calm],axis=0)"
   ]
  },
  {
   "cell_type": "code",
   "execution_count": 15,
   "metadata": {},
   "outputs": [
    {
     "data": {
      "text/plain": [
       "neutral    100\n",
       "happy      100\n",
       "calm       100\n",
       "sad        100\n",
       "Name: emotion, dtype: int64"
      ]
     },
     "execution_count": 15,
     "metadata": {},
     "output_type": "execute_result"
    }
   ],
   "source": [
    "df_final['emotion'].value_counts()"
   ]
  },
  {
   "cell_type": "code",
   "execution_count": 16,
   "metadata": {},
   "outputs": [],
   "source": [
    "df_final.to_csv('songs_data.csv')"
   ]
  },
  {
   "cell_type": "code",
   "execution_count": null,
   "metadata": {},
   "outputs": [],
   "source": []
  }
 ],
 "metadata": {
  "kernelspec": {
   "display_name": "Python 3",
   "language": "python",
   "name": "python3"
  },
  "language_info": {
   "codemirror_mode": {
    "name": "ipython",
    "version": 3
   },
   "file_extension": ".py",
   "mimetype": "text/x-python",
   "name": "python",
   "nbconvert_exporter": "python",
   "pygments_lexer": "ipython3",
   "version": "3.7.3"
  }
 },
 "nbformat": 4,
 "nbformat_minor": 4
}
